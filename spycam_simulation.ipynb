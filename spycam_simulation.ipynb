{
 "cells": [
  {
   "cell_type": "markdown",
   "metadata": {
    "collapsed": true,
    "pycharm": {
     "name": "#%% md\n"
    }
   },
   "source": [
    "# Spydercam simulation"
   ]
  },
  {
   "cell_type": "markdown",
   "source": [
    "## Computation of the simulation"
   ],
   "metadata": {
    "collapsed": false
   }
  },
  {
   "cell_type": "code",
   "execution_count": null,
   "outputs": [],
   "source": [
    "from simulation_computation import *"
   ],
   "metadata": {
    "collapsed": false,
    "pycharm": {
     "name": "#%%\n"
    }
   }
  },
  {
   "cell_type": "code",
   "execution_count": null,
   "outputs": [],
   "source": [
    "#Vitesse de référence de la caméra\n",
    "plt.figure(0)\n",
    "plt.plot(time,vitXref[0,:],'r--')\n",
    "plt.plot(time,vitXref[1,:],'g--')\n",
    "plt.plot(time,vitXref[2,:],'b--')\n",
    "plt.title(\"Vitesse de référence\")\n",
    "plt.xlabel(\"temps (s)\");\n",
    "plt.ylabel(\"vitesse (m/s)\")\n",
    "plt.legend([\"$\\\\dot{x}^0$\",\"$\\\\dot{y}^0$\",\"$\\\\dot{z}^0$\"])\n",
    "plt.show()"
   ],
   "metadata": {
    "collapsed": false,
    "pycharm": {
     "name": "#%%\n"
    }
   }
  },
  {
   "cell_type": "code",
   "execution_count": null,
   "outputs": [],
   "source": [
    "#Position de la caméra\n",
    "plt.figure(1)\n",
    "plt.plot(time,posXref[0,:],'r--')\n",
    "plt.plot(time,x,'r')\n",
    "plt.plot(time,posXref[1,:],'g--')\n",
    "plt.plot(time,y,'g')\n",
    "plt.plot(time,posXref[2,:],'b--')\n",
    "plt.plot(time,z,'b')\n",
    "plt.title(\"Position de la caméra\")\n",
    "plt.xlabel(\"temps (s)\");\n",
    "plt.ylabel(\"position (m)\")\n",
    "plt.legend([\"${x}^0$\",\"${x}$\",\"${y}^0$\",\"${y}$\",\"${z}^0$\",\"${z}$\"])\n",
    "plt.show()"
   ],
   "metadata": {
    "collapsed": false,
    "pycharm": {
     "name": "#%%\n"
    }
   }
  },
  {
   "cell_type": "code",
   "execution_count": null,
   "outputs": [],
   "source": [
    "#Erreur de position\n",
    "plt.figure(2)\n",
    "plt.plot(time,(x-posXref[0,:])*1e3,'r')\n",
    "plt.plot(time,(y-posXref[1,:])*1e3,'g')\n",
    "plt.plot(time,(z-posXref[2,:])*1e3,'b')\n",
    "plt.title(\"Erreur de position de la caméra\")\n",
    "plt.xlabel(\"temps (s)\");\n",
    "plt.ylabel(\"erreur (mm)\")\n",
    "plt.legend([\"$x-{x}^0$\",\"$y-{y}^0$\",\"$z-{z}^0$\"])\n",
    "plt.show()"
   ],
   "metadata": {
    "collapsed": false,
    "pycharm": {
     "name": "#%%\n"
    }
   }
  },
  {
   "cell_type": "code",
   "execution_count": null,
   "outputs": [],
   "source": [
    "#Vitesse de rotation de référence des treuils\n",
    "plt.figure(3)\n",
    "plt.plot(time,vitThref[0,:],'r--')\n",
    "plt.plot(time,vitThref[1,:],'g--')\n",
    "plt.plot(time,vitThref[2,:],'b--')\n",
    "plt.title(\"Vitesse de rotation de référence des moteurs\")\n",
    "plt.xlabel(\"temps (s)\");\n",
    "plt.ylabel(\"vitesse (rad/s)\")\n",
    "plt.legend([\"$\\\\dot{\\\\theta}_1^0$\",\"$\\\\dot{\\\\theta}_2^0$\",\"$\\\\dot{\\\\theta}_3^0$\"])\n",
    "plt.show()"
   ],
   "metadata": {
    "collapsed": false,
    "pycharm": {
     "name": "#%%\n"
    }
   }
  },
  {
   "cell_type": "code",
   "execution_count": null,
   "outputs": [],
   "source": [
    "#Position angulaire des treuils\n",
    "plt.figure(4)\n",
    "plt.plot(time,posThref[0,:],'r--')\n",
    "plt.plot(time,TH1,'r')\n",
    "plt.plot(time,posThref[1,:],'g--')\n",
    "plt.plot(time,TH2,'g')\n",
    "plt.plot(time,posThref[2,:],'b--')\n",
    "plt.plot(time,TH3,'b')\n",
    "plt.title(\"Position angulaire des moteurs\")\n",
    "plt.xlabel(\"temps (s)\");\n",
    "plt.ylabel(\"angle (rad)\")\n",
    "plt.legend([\"${\\\\theta}_1^0$\",\"${\\\\theta}_1$\",\"${\\\\theta}_2^0$\",\"${\\\\theta}_2$\",\"${\\\\theta}_3^0$\",\"${\\\\theta}_3$\"])\n",
    "plt.show()"
   ],
   "metadata": {
    "collapsed": false,
    "pycharm": {
     "name": "#%%\n"
    }
   }
  },
  {
   "cell_type": "code",
   "execution_count": null,
   "outputs": [],
   "source": [
    "#Erreur angulaire de positionnement\n",
    "plt.figure(5)\n",
    "plt.plot(time,(TH1-posThref[0,:])*1e3,'r')\n",
    "plt.plot(time,(TH2-posThref[1,:])*1e3,'g')\n",
    "plt.plot(time,(TH3-posThref[2,:])*1e3,'b')\n",
    "plt.title(\"Erreur de position angulaire des moteurs\")\n",
    "plt.xlabel(\"temps (s)\");\n",
    "plt.ylabel(\"erreur (mrad)\")\n",
    "plt.legend([\"${\\\\theta}_1-{\\\\theta}_1^0$\",\"${\\\\theta}_2-{\\\\theta}_2^0$\",\"${\\\\theta}_3-{\\\\theta}_3^0$\"])\n",
    "plt.show()"
   ],
   "metadata": {
    "collapsed": false,
    "pycharm": {
     "name": "#%%\n"
    }
   }
  },
  {
   "cell_type": "code",
   "execution_count": null,
   "outputs": [],
   "source": [
    "#Force sur les treuils\n",
    "plt.figure(6)\n",
    "plt.plot(time,F1,'r')\n",
    "plt.plot(time,F2,'g')\n",
    "plt.plot(time,F3,'b')\n",
    "plt.title(\"Force de tension au niveau des 3 treuils\")\n",
    "plt.xlabel(\"temps (s)\");\n",
    "plt.ylabel(\"Force (N)\")\n",
    "plt.legend([\"$F_1$\",\"$F_2$\",\"$F_3$\"])\n",
    "plt.show()"
   ],
   "metadata": {
    "collapsed": false,
    "pycharm": {
     "name": "#%%\n"
    }
   }
  },
  {
   "cell_type": "code",
   "execution_count": null,
   "outputs": [],
   "source": [
    "#Tension de commande des moteurs\n",
    "plt.figure(7)\n",
    "plt.plot(time,U1,'r')\n",
    "plt.plot(time,U2,'g')\n",
    "plt.plot(time,U3,'b')\n",
    "plt.title(\"Tension de commande des moteurs\")\n",
    "plt.xlabel(\"temps (s)\");\n",
    "plt.ylabel(\"Tension (V)\")\n",
    "plt.legend([\"$U_1$\",\"$U_2$\",\"$U_3$\"])\n",
    "plt.show()"
   ],
   "metadata": {
    "collapsed": false,
    "pycharm": {
     "name": "#%%\n"
    }
   }
  }
 ],
 "metadata": {
  "kernelspec": {
   "display_name": "Python 3",
   "language": "python",
   "name": "python3"
  },
  "language_info": {
   "codemirror_mode": {
    "name": "ipython",
    "version": 2
   },
   "file_extension": ".py",
   "mimetype": "text/x-python",
   "name": "python",
   "nbconvert_exporter": "python",
   "pygments_lexer": "ipython2",
   "version": "2.7.6"
  }
 },
 "nbformat": 4,
 "nbformat_minor": 0
}